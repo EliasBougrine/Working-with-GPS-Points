{
 "cells": [
  {
   "cell_type": "markdown",
   "metadata": {},
   "source": [
    "# Working with GPS points"
   ]
  },
  {
   "cell_type": "markdown",
   "metadata": {},
   "source": [
    "---\n",
    "# Introduction\n",
    "\n",
    "In this project, we are interested in a section of roadway that goes North/South and has two intersections. The roadway is a divided highway. Each side of the divided roadway has an intersection. The area of interest is shown in the figure above by the red box enclosed by the following **WGS-84** coordinates:\n",
    "- Point 1: (34.241, 108.943)\n",
    "- Point 2: (34.241, 108.9415)\n",
    "- Point 3: (34.234, 108.9415)\n",
    "- Point 4: (34.234, 108.943)\n",
    "\n",
    "<img  src= \"Figure1.JPG\" width = 650> \n",
    "\n",
    "We provide one-day (10/03/2016) of GPS data from the city of Xi’an from DiDi Inc. Unfortunately, the dataset used an uncommon GCJ-2 coordinate system and was difficult to deal with. Therefore, we want to transform the coordinates from GCJ-2 to WGS-84.\n",
    "\n",
    "The final goal of this project is to calculate the northbound and southbound average speeds at every 5-minute interval for the interested arterial road. "
   ]
  },
  {
   "cell_type": "markdown",
   "metadata": {},
   "source": [
    "---\n",
    "# Import the Environment"
   ]
  },
  {
   "cell_type": "code",
   "execution_count": 1,
   "metadata": {},
   "outputs": [],
   "source": [
    "%load_ext autoreload\n",
    "%autoreload 2\n",
    "\n",
    "import numpy as np\n",
    "import pandas as pd\n",
    "\n",
    "import matplotlib.pyplot as plt\n",
    "import pyproj\n",
    "%matplotlib inline\n",
    "\n",
    "import evil_transform\n",
    "from utils import load_sample, check_transform, check_vanilla_better_et, plot_gps\n",
    "import time"
   ]
  },
  {
   "cell_type": "markdown",
   "metadata": {},
   "source": [
    "---\n",
    "# Load the Data"
   ]
  },
  {
   "cell_type": "code",
   "execution_count": 2,
   "metadata": {},
   "outputs": [
    {
     "name": "stdout",
     "output_type": "stream",
     "text": [
      "sample file has shape: (1000000, 5)\n"
     ]
    },
    {
     "data": {
      "text/html": [
       "<div>\n",
       "<style scoped>\n",
       "    .dataframe tbody tr th:only-of-type {\n",
       "        vertical-align: middle;\n",
       "    }\n",
       "\n",
       "    .dataframe tbody tr th {\n",
       "        vertical-align: top;\n",
       "    }\n",
       "\n",
       "    .dataframe thead th {\n",
       "        text-align: right;\n",
       "    }\n",
       "</style>\n",
       "<table border=\"1\" class=\"dataframe\">\n",
       "  <thead>\n",
       "    <tr style=\"text-align: right;\">\n",
       "      <th></th>\n",
       "      <th>driver_id</th>\n",
       "      <th>order_id</th>\n",
       "      <th>time</th>\n",
       "      <th>lon</th>\n",
       "      <th>lat</th>\n",
       "    </tr>\n",
       "  </thead>\n",
       "  <tbody>\n",
       "    <tr>\n",
       "      <th>0</th>\n",
       "      <td>af7ff9e09ccb91b0638c969f1b90fc05</td>\n",
       "      <td>03cb74776ae3f1f8c13ba29150b80dad</td>\n",
       "      <td>1476329988</td>\n",
       "      <td>108.95218</td>\n",
       "      <td>34.24113</td>\n",
       "    </tr>\n",
       "    <tr>\n",
       "      <th>1</th>\n",
       "      <td>af7ff9e09ccb91b0638c969f1b90fc05</td>\n",
       "      <td>03cb74776ae3f1f8c13ba29150b80dad</td>\n",
       "      <td>1476330027</td>\n",
       "      <td>108.95483</td>\n",
       "      <td>34.24107</td>\n",
       "    </tr>\n",
       "    <tr>\n",
       "      <th>2</th>\n",
       "      <td>af7ff9e09ccb91b0638c969f1b90fc05</td>\n",
       "      <td>03cb74776ae3f1f8c13ba29150b80dad</td>\n",
       "      <td>1476329985</td>\n",
       "      <td>108.95181</td>\n",
       "      <td>34.24113</td>\n",
       "    </tr>\n",
       "    <tr>\n",
       "      <th>3</th>\n",
       "      <td>af7ff9e09ccb91b0638c969f1b90fc05</td>\n",
       "      <td>03cb74776ae3f1f8c13ba29150b80dad</td>\n",
       "      <td>1476330024</td>\n",
       "      <td>108.95453</td>\n",
       "      <td>34.24107</td>\n",
       "    </tr>\n",
       "    <tr>\n",
       "      <th>4</th>\n",
       "      <td>af7ff9e09ccb91b0638c969f1b90fc05</td>\n",
       "      <td>03cb74776ae3f1f8c13ba29150b80dad</td>\n",
       "      <td>1476330039</td>\n",
       "      <td>108.95597</td>\n",
       "      <td>34.24107</td>\n",
       "    </tr>\n",
       "  </tbody>\n",
       "</table>\n",
       "</div>"
      ],
      "text/plain": [
       "                          driver_id                          order_id  \\\n",
       "0  af7ff9e09ccb91b0638c969f1b90fc05  03cb74776ae3f1f8c13ba29150b80dad   \n",
       "1  af7ff9e09ccb91b0638c969f1b90fc05  03cb74776ae3f1f8c13ba29150b80dad   \n",
       "2  af7ff9e09ccb91b0638c969f1b90fc05  03cb74776ae3f1f8c13ba29150b80dad   \n",
       "3  af7ff9e09ccb91b0638c969f1b90fc05  03cb74776ae3f1f8c13ba29150b80dad   \n",
       "4  af7ff9e09ccb91b0638c969f1b90fc05  03cb74776ae3f1f8c13ba29150b80dad   \n",
       "\n",
       "         time        lon       lat  \n",
       "0  1476329988  108.95218  34.24113  \n",
       "1  1476330027  108.95483  34.24107  \n",
       "2  1476329985  108.95181  34.24113  \n",
       "3  1476330024  108.95453  34.24107  \n",
       "4  1476330039  108.95597  34.24107  "
      ]
     },
     "execution_count": 2,
     "metadata": {},
     "output_type": "execute_result"
    }
   ],
   "source": [
    "sample = load_sample('data/xian/gps_20161013', nrows = 1000000)\n",
    "print('sample file has shape:', sample.shape)\n",
    "sample.head()"
   ]
  },
  {
   "cell_type": "markdown",
   "metadata": {},
   "source": [
    "---\n",
    "# FIRST PART: Transform the coordinates and select the area of interest\n",
    "\n",
    "The main task in this part is to transform the GCJ-2 coordinates in the DiDi dataset to WGS-84 coordinates, and select the GPS points that are only in the area of interest (red box above)\n",
    "\n",
    "---\n",
    "## Vanilla evil transform\n",
    "\n",
    "The GitHub repository from googollee (https://github.com/googollee/eviltransform) has implemented the evil transformation using Python, and we have cloned them into the provided evil_transform.py. In this first part, we use the function gcj2wgs_exact() to create the function vanilla_et() to convert the GCJ-2 coordinates to WGS-84 coordinates. \n",
    "\n",
    "The input to vanilla_et() should be a Pandas data frame that contains the raw GPS data and the output should be another Pandas data frame with two additional columns lat_wgs and lon_wgs. We include the CPU time of the implemented vanilla_et() on the first 1,000,000 rows of the DiDi dataset."
   ]
  },
  {
   "cell_type": "code",
   "execution_count": 3,
   "metadata": {},
   "outputs": [],
   "source": [
    "from evil_transform import gcj2wgs_exact\n",
    "\n",
    "def vanilla_et(sample_df):\n",
    "    \"\"\"\n",
    "    The input is the dataframe of the DiDi datasets\n",
    "    The output should also be a dataframe, but with two additional columns -- lat_wgs and lon_wgs -- \n",
    "        which are the converted coordiantes from GCJ-2\n",
    "    \"\"\"    \n",
    "    sample_df_out = sample_df.copy()\n",
    "    \n",
    "    # Applying the function to the right data\n",
    "    sample_df_out['lat_wgs'],sample_df_out['lon_wgs'] = zip(*sample_df_out.apply(\n",
    "                                                                lambda x: gcj2wgs_exact(x['lat'],x['lon']), axis=1))\n",
    "    \n",
    "    return sample_df_out"
   ]
  },
  {
   "cell_type": "code",
   "execution_count": 4,
   "metadata": {},
   "outputs": [
    {
     "name": "stdout",
     "output_type": "stream",
     "text": [
      "CPU Time: 89.546 seconds\n"
     ]
    }
   ],
   "source": [
    "st = time.time()\n",
    "sample_df_vanilla = vanilla_et(sample)\n",
    "Tvanilla = time.time() - st\n",
    "print('CPU Time: %.3f seconds'%(Tvanilla))"
   ]
  },
  {
   "cell_type": "code",
   "execution_count": 5,
   "metadata": {},
   "outputs": [
    {
     "data": {
      "text/html": [
       "<div>\n",
       "<style scoped>\n",
       "    .dataframe tbody tr th:only-of-type {\n",
       "        vertical-align: middle;\n",
       "    }\n",
       "\n",
       "    .dataframe tbody tr th {\n",
       "        vertical-align: top;\n",
       "    }\n",
       "\n",
       "    .dataframe thead th {\n",
       "        text-align: right;\n",
       "    }\n",
       "</style>\n",
       "<table border=\"1\" class=\"dataframe\">\n",
       "  <thead>\n",
       "    <tr style=\"text-align: right;\">\n",
       "      <th></th>\n",
       "      <th>driver_id</th>\n",
       "      <th>order_id</th>\n",
       "      <th>time</th>\n",
       "      <th>lon</th>\n",
       "      <th>lat</th>\n",
       "      <th>lat_wgs</th>\n",
       "      <th>lon_wgs</th>\n",
       "    </tr>\n",
       "  </thead>\n",
       "  <tbody>\n",
       "    <tr>\n",
       "      <th>0</th>\n",
       "      <td>af7ff9e09ccb91b0638c969f1b90fc05</td>\n",
       "      <td>03cb74776ae3f1f8c13ba29150b80dad</td>\n",
       "      <td>1476329988</td>\n",
       "      <td>108.95218</td>\n",
       "      <td>34.24113</td>\n",
       "      <td>34.242714</td>\n",
       "      <td>108.947510</td>\n",
       "    </tr>\n",
       "    <tr>\n",
       "      <th>1</th>\n",
       "      <td>af7ff9e09ccb91b0638c969f1b90fc05</td>\n",
       "      <td>03cb74776ae3f1f8c13ba29150b80dad</td>\n",
       "      <td>1476330027</td>\n",
       "      <td>108.95483</td>\n",
       "      <td>34.24107</td>\n",
       "      <td>34.242649</td>\n",
       "      <td>108.950153</td>\n",
       "    </tr>\n",
       "    <tr>\n",
       "      <th>2</th>\n",
       "      <td>af7ff9e09ccb91b0638c969f1b90fc05</td>\n",
       "      <td>03cb74776ae3f1f8c13ba29150b80dad</td>\n",
       "      <td>1476329985</td>\n",
       "      <td>108.95181</td>\n",
       "      <td>34.24113</td>\n",
       "      <td>34.242716</td>\n",
       "      <td>108.947141</td>\n",
       "    </tr>\n",
       "    <tr>\n",
       "      <th>3</th>\n",
       "      <td>af7ff9e09ccb91b0638c969f1b90fc05</td>\n",
       "      <td>03cb74776ae3f1f8c13ba29150b80dad</td>\n",
       "      <td>1476330024</td>\n",
       "      <td>108.95453</td>\n",
       "      <td>34.24107</td>\n",
       "      <td>34.242650</td>\n",
       "      <td>108.949853</td>\n",
       "    </tr>\n",
       "    <tr>\n",
       "      <th>4</th>\n",
       "      <td>af7ff9e09ccb91b0638c969f1b90fc05</td>\n",
       "      <td>03cb74776ae3f1f8c13ba29150b80dad</td>\n",
       "      <td>1476330039</td>\n",
       "      <td>108.95597</td>\n",
       "      <td>34.24107</td>\n",
       "      <td>34.242646</td>\n",
       "      <td>108.951289</td>\n",
       "    </tr>\n",
       "  </tbody>\n",
       "</table>\n",
       "</div>"
      ],
      "text/plain": [
       "                          driver_id                          order_id  \\\n",
       "0  af7ff9e09ccb91b0638c969f1b90fc05  03cb74776ae3f1f8c13ba29150b80dad   \n",
       "1  af7ff9e09ccb91b0638c969f1b90fc05  03cb74776ae3f1f8c13ba29150b80dad   \n",
       "2  af7ff9e09ccb91b0638c969f1b90fc05  03cb74776ae3f1f8c13ba29150b80dad   \n",
       "3  af7ff9e09ccb91b0638c969f1b90fc05  03cb74776ae3f1f8c13ba29150b80dad   \n",
       "4  af7ff9e09ccb91b0638c969f1b90fc05  03cb74776ae3f1f8c13ba29150b80dad   \n",
       "\n",
       "         time        lon       lat    lat_wgs     lon_wgs  \n",
       "0  1476329988  108.95218  34.24113  34.242714  108.947510  \n",
       "1  1476330027  108.95483  34.24107  34.242649  108.950153  \n",
       "2  1476329985  108.95181  34.24113  34.242716  108.947141  \n",
       "3  1476330024  108.95453  34.24107  34.242650  108.949853  \n",
       "4  1476330039  108.95597  34.24107  34.242646  108.951289  "
      ]
     },
     "execution_count": 5,
     "metadata": {},
     "output_type": "execute_result"
    }
   ],
   "source": [
    "sample_df_vanilla.head()"
   ]
  },
  {
   "cell_type": "markdown",
   "metadata": {},
   "source": [
    "We use the check_transform function implemented in the utils.py fle in order to have an example of the latitudes, and longitudes of a particular driver between two specific times."
   ]
  },
  {
   "cell_type": "code",
   "execution_count": 6,
   "metadata": {},
   "outputs": [
    {
     "name": "stdout",
     "output_type": "stream",
     "text": [
      "WGS coords:\n",
      " [[ 34.23418    108.92032     34.23580964 108.91572161]\n",
      " [ 34.23401    108.9207      34.23563964 108.91610161]\n",
      " [ 34.23383    108.92109     34.23545903 108.916491  ]\n",
      " [ 34.23365    108.92151     34.23527781 108.91690978]]\n"
     ]
    }
   ],
   "source": [
    "ref_wgs = check_transform(sample_df_vanilla,\n",
    "                         '3a9378dc2b4e3b60aab95d69ef84181a',\n",
    "                         '503ba7700b4369b332439991dcdc0e05',\n",
    "                         1476369636,\n",
    "                         1476369646)\n",
    "\n",
    "print('WGS coords:\\n', ref_wgs)"
   ]
  },
  {
   "cell_type": "markdown",
   "metadata": {},
   "source": [
    "---\n",
    "## Better evil transform\n",
    "\n",
    "The vanilla evil transform from the first part typically takes a long time to execute and therefore is difficult to be applied to large-scale tasks. In this second part, we modify our code to try to speed up our evil transform process.\n",
    "\n",
    "To do so, we use the following approaches:\n",
    "- We optimize the evil transform code by using vectorization. In Python programming, vectorization is an important principle – always avoid “for loop” if we can. Unfortunately, the original evil_transform.py is not fully vectorized and therefore leaves room for further optimization.\n",
    "- Prefiltering. The area of interest in this study is a tiny piece of link, and therefore, we can pre-crop the datasets based on our “rule-of-thumb” and reduce the size of computation."
   ]
  },
  {
   "cell_type": "code",
   "execution_count": 7,
   "metadata": {},
   "outputs": [],
   "source": [
    "from evil_transform import gcj2wgs_exact_vectorized\n",
    "from evil_transform import wgs2gcj\n",
    "import sys\n",
    "\n",
    "\n",
    "# GCJ2 coordinates of the four points\n",
    "point_1 = wgs2gcj(34.241, 108.943)\n",
    "point_2 = wgs2gcj(34.234, 108.9415)\n",
    "\n",
    "lat1 = min(point_1[0],point_2[0])\n",
    "lat2 = max(point_1[0],point_2[0])\n",
    "lon1 = min(point_1[1],point_2[1])\n",
    "lon2 = max(point_1[1],point_2[1])\n",
    "\n",
    "\n",
    "def manipulate_pd(df):\n",
    "    \"\"\"\n",
    "    This should be a faster version of vanilla_et()\n",
    "    The input is a dataframe with GCJ-2 coordinates\n",
    "    The output should be the same dataframe, but with two additional columns -- lat_wgs and lon_wgs -- \n",
    "        which are the converted coordiantes from GCJ-2\n",
    "    \"\"\"\n",
    "    a = gcj2wgs_exact_vectorized(np.array(df['lat']),np.array(df['lon']))\n",
    "    df['lat_wgs'] = a[0]\n",
    "    df['lon_wgs'] = a[1]\n",
    "    return df\n",
    "\n",
    "\n",
    "def better_et(sample_df):\n",
    "    sample_df_out = sample_df.copy()\n",
    "    \"\"\"\n",
    "    This should be a faster version of vanilla_et()\n",
    "    The input is the dataframe of the DiDi datasets\n",
    "    The output should also be a dataframe, but with two additional columns -- lat_wgs and lon_wgs -- \n",
    "        which are the converted coordiantes from GCJ-2\n",
    "    \"\"\"\n",
    "    \n",
    "    # Prefiltering\n",
    "    sample_df_out = sample_df_out.loc[ (sample_df_out['lat']>=lat1) & (sample_df_out['lat']<=lat2)\n",
    "                                      & (sample_df_out['lon']>=lon1) & (sample_df_out['lon']<=lon2), : ]\n",
    "    \n",
    "    # Apply the vectorized function\n",
    "    manipulate_pd(sample_df_out)\n",
    "    \n",
    "    return sample_df_out"
   ]
  },
  {
   "cell_type": "code",
   "execution_count": 8,
   "metadata": {},
   "outputs": [
    {
     "name": "stdout",
     "output_type": "stream",
     "text": [
      "Run time: 0.726 seconds\n"
     ]
    }
   ],
   "source": [
    "st = time.time()\n",
    "sample_df_better = better_et(sample)\n",
    "Tbetter = time.time() - st\n",
    "print('Run time: %.3f seconds'%(Tbetter))"
   ]
  },
  {
   "cell_type": "code",
   "execution_count": 9,
   "metadata": {},
   "outputs": [
    {
     "data": {
      "text/html": [
       "<div>\n",
       "<style scoped>\n",
       "    .dataframe tbody tr th:only-of-type {\n",
       "        vertical-align: middle;\n",
       "    }\n",
       "\n",
       "    .dataframe tbody tr th {\n",
       "        vertical-align: top;\n",
       "    }\n",
       "\n",
       "    .dataframe thead th {\n",
       "        text-align: right;\n",
       "    }\n",
       "</style>\n",
       "<table border=\"1\" class=\"dataframe\">\n",
       "  <thead>\n",
       "    <tr style=\"text-align: right;\">\n",
       "      <th></th>\n",
       "      <th>driver_id</th>\n",
       "      <th>order_id</th>\n",
       "      <th>time</th>\n",
       "      <th>lon</th>\n",
       "      <th>lat</th>\n",
       "      <th>lat_wgs</th>\n",
       "      <th>lon_wgs</th>\n",
       "    </tr>\n",
       "  </thead>\n",
       "  <tbody>\n",
       "    <tr>\n",
       "      <th>25</th>\n",
       "      <td>af7ff9e09ccb91b0638c969f1b90fc05</td>\n",
       "      <td>bea5e9bce4f2f79e9098c794f42e07bc</td>\n",
       "      <td>1476330804</td>\n",
       "      <td>108.94676</td>\n",
       "      <td>34.23590</td>\n",
       "      <td>34.237497</td>\n",
       "      <td>108.942107</td>\n",
       "    </tr>\n",
       "    <tr>\n",
       "      <th>26</th>\n",
       "      <td>af7ff9e09ccb91b0638c969f1b90fc05</td>\n",
       "      <td>bea5e9bce4f2f79e9098c794f42e07bc</td>\n",
       "      <td>1476330846</td>\n",
       "      <td>108.94676</td>\n",
       "      <td>34.23491</td>\n",
       "      <td>34.236507</td>\n",
       "      <td>108.942107</td>\n",
       "    </tr>\n",
       "    <tr>\n",
       "      <th>27</th>\n",
       "      <td>af7ff9e09ccb91b0638c969f1b90fc05</td>\n",
       "      <td>bea5e9bce4f2f79e9098c794f42e07bc</td>\n",
       "      <td>1476330783</td>\n",
       "      <td>108.94676</td>\n",
       "      <td>34.23736</td>\n",
       "      <td>34.238957</td>\n",
       "      <td>108.942107</td>\n",
       "    </tr>\n",
       "    <tr>\n",
       "      <th>28</th>\n",
       "      <td>af7ff9e09ccb91b0638c969f1b90fc05</td>\n",
       "      <td>bea5e9bce4f2f79e9098c794f42e07bc</td>\n",
       "      <td>1476330843</td>\n",
       "      <td>108.94676</td>\n",
       "      <td>34.23515</td>\n",
       "      <td>34.236747</td>\n",
       "      <td>108.942107</td>\n",
       "    </tr>\n",
       "    <tr>\n",
       "      <th>29</th>\n",
       "      <td>af7ff9e09ccb91b0638c969f1b90fc05</td>\n",
       "      <td>bea5e9bce4f2f79e9098c794f42e07bc</td>\n",
       "      <td>1476330786</td>\n",
       "      <td>108.94676</td>\n",
       "      <td>34.23711</td>\n",
       "      <td>34.238707</td>\n",
       "      <td>108.942107</td>\n",
       "    </tr>\n",
       "  </tbody>\n",
       "</table>\n",
       "</div>"
      ],
      "text/plain": [
       "                           driver_id                          order_id  \\\n",
       "25  af7ff9e09ccb91b0638c969f1b90fc05  bea5e9bce4f2f79e9098c794f42e07bc   \n",
       "26  af7ff9e09ccb91b0638c969f1b90fc05  bea5e9bce4f2f79e9098c794f42e07bc   \n",
       "27  af7ff9e09ccb91b0638c969f1b90fc05  bea5e9bce4f2f79e9098c794f42e07bc   \n",
       "28  af7ff9e09ccb91b0638c969f1b90fc05  bea5e9bce4f2f79e9098c794f42e07bc   \n",
       "29  af7ff9e09ccb91b0638c969f1b90fc05  bea5e9bce4f2f79e9098c794f42e07bc   \n",
       "\n",
       "          time        lon       lat    lat_wgs     lon_wgs  \n",
       "25  1476330804  108.94676  34.23590  34.237497  108.942107  \n",
       "26  1476330846  108.94676  34.23491  34.236507  108.942107  \n",
       "27  1476330783  108.94676  34.23736  34.238957  108.942107  \n",
       "28  1476330843  108.94676  34.23515  34.236747  108.942107  \n",
       "29  1476330786  108.94676  34.23711  34.238707  108.942107  "
      ]
     },
     "execution_count": 9,
     "metadata": {},
     "output_type": "execute_result"
    }
   ],
   "source": [
    "sample_df_better.head()"
   ]
  },
  {
   "cell_type": "markdown",
   "metadata": {},
   "source": [
    "We also check if the results from better_et() and vanilla_et() agree to each other. We use the function check_vanilla_better_et() to verify our implementation. If the results agree we will see “Evil transform test pass!”, otherwise we will see “AssertionError: Test not pass!”."
   ]
  },
  {
   "cell_type": "code",
   "execution_count": 10,
   "metadata": {},
   "outputs": [
    {
     "name": "stdout",
     "output_type": "stream",
     "text": [
      "Evil transform test pass!\n"
     ]
    }
   ],
   "source": [
    "# Check if results from vanilla_et and better_et agree to each other, takes about 5 seconds\n",
    "_ = check_vanilla_better_et(sample_df_vanilla, sample_df_better)"
   ]
  },
  {
   "cell_type": "markdown",
   "metadata": {},
   "source": [
    "Finally, we compare our CPU time with vanilla_et() using the following metric:\n",
    "\n",
    "<img src = 'Figure2.jpg'>"
   ]
  },
  {
   "cell_type": "code",
   "execution_count": 11,
   "metadata": {},
   "outputs": [
    {
     "data": {
      "text/plain": [
       "0.9918918543936217"
      ]
     },
     "execution_count": 11,
     "metadata": {},
     "output_type": "execute_result"
    }
   ],
   "source": [
    "Delta = (Tvanilla - Tbetter) / Tvanilla\n",
    "Delta"
   ]
  },
  {
   "cell_type": "markdown",
   "metadata": {},
   "source": [
    "---\n",
    "## Crop region of interest\n",
    "\n",
    "In this part, we apply our better_et() to the full DiDi dataset, which has about 18 million rows, and then select the GPS points within the area of interest. "
   ]
  },
  {
   "cell_type": "code",
   "execution_count": 12,
   "metadata": {},
   "outputs": [
    {
     "name": "stdout",
     "output_type": "stream",
     "text": [
      "trip file has shape: (18834290, 5)\n"
     ]
    }
   ],
   "source": [
    "trips_df = load_sample('data/xian/gps_20161013', nrows = None)\n",
    "\n",
    "# WGS-84 coords for the boundary of the area of interest\n",
    "p1 = (34.241, 108.943)\n",
    "p2 = (34.241, 108.9415)\n",
    "p3 = (34.234, 108.9415)\n",
    "p4 = (34.234, 108.943)\n",
    "\n",
    "print('trip file has shape:', trips_df.shape)"
   ]
  },
  {
   "cell_type": "code",
   "execution_count": 13,
   "metadata": {},
   "outputs": [
    {
     "data": {
      "text/html": [
       "<div>\n",
       "<style scoped>\n",
       "    .dataframe tbody tr th:only-of-type {\n",
       "        vertical-align: middle;\n",
       "    }\n",
       "\n",
       "    .dataframe tbody tr th {\n",
       "        vertical-align: top;\n",
       "    }\n",
       "\n",
       "    .dataframe thead th {\n",
       "        text-align: right;\n",
       "    }\n",
       "</style>\n",
       "<table border=\"1\" class=\"dataframe\">\n",
       "  <thead>\n",
       "    <tr style=\"text-align: right;\">\n",
       "      <th></th>\n",
       "      <th>driver_id</th>\n",
       "      <th>order_id</th>\n",
       "      <th>time</th>\n",
       "      <th>lon</th>\n",
       "      <th>lat</th>\n",
       "      <th>lat_wgs</th>\n",
       "      <th>lon_wgs</th>\n",
       "    </tr>\n",
       "  </thead>\n",
       "  <tbody>\n",
       "    <tr>\n",
       "      <th>25</th>\n",
       "      <td>af7ff9e09ccb91b0638c969f1b90fc05</td>\n",
       "      <td>bea5e9bce4f2f79e9098c794f42e07bc</td>\n",
       "      <td>1476330804</td>\n",
       "      <td>108.94676</td>\n",
       "      <td>34.23590</td>\n",
       "      <td>34.237497</td>\n",
       "      <td>108.942107</td>\n",
       "    </tr>\n",
       "    <tr>\n",
       "      <th>26</th>\n",
       "      <td>af7ff9e09ccb91b0638c969f1b90fc05</td>\n",
       "      <td>bea5e9bce4f2f79e9098c794f42e07bc</td>\n",
       "      <td>1476330846</td>\n",
       "      <td>108.94676</td>\n",
       "      <td>34.23491</td>\n",
       "      <td>34.236507</td>\n",
       "      <td>108.942107</td>\n",
       "    </tr>\n",
       "    <tr>\n",
       "      <th>27</th>\n",
       "      <td>af7ff9e09ccb91b0638c969f1b90fc05</td>\n",
       "      <td>bea5e9bce4f2f79e9098c794f42e07bc</td>\n",
       "      <td>1476330783</td>\n",
       "      <td>108.94676</td>\n",
       "      <td>34.23736</td>\n",
       "      <td>34.238957</td>\n",
       "      <td>108.942107</td>\n",
       "    </tr>\n",
       "    <tr>\n",
       "      <th>28</th>\n",
       "      <td>af7ff9e09ccb91b0638c969f1b90fc05</td>\n",
       "      <td>bea5e9bce4f2f79e9098c794f42e07bc</td>\n",
       "      <td>1476330843</td>\n",
       "      <td>108.94676</td>\n",
       "      <td>34.23515</td>\n",
       "      <td>34.236747</td>\n",
       "      <td>108.942107</td>\n",
       "    </tr>\n",
       "    <tr>\n",
       "      <th>29</th>\n",
       "      <td>af7ff9e09ccb91b0638c969f1b90fc05</td>\n",
       "      <td>bea5e9bce4f2f79e9098c794f42e07bc</td>\n",
       "      <td>1476330786</td>\n",
       "      <td>108.94676</td>\n",
       "      <td>34.23711</td>\n",
       "      <td>34.238707</td>\n",
       "      <td>108.942107</td>\n",
       "    </tr>\n",
       "  </tbody>\n",
       "</table>\n",
       "</div>"
      ],
      "text/plain": [
       "                           driver_id                          order_id  \\\n",
       "25  af7ff9e09ccb91b0638c969f1b90fc05  bea5e9bce4f2f79e9098c794f42e07bc   \n",
       "26  af7ff9e09ccb91b0638c969f1b90fc05  bea5e9bce4f2f79e9098c794f42e07bc   \n",
       "27  af7ff9e09ccb91b0638c969f1b90fc05  bea5e9bce4f2f79e9098c794f42e07bc   \n",
       "28  af7ff9e09ccb91b0638c969f1b90fc05  bea5e9bce4f2f79e9098c794f42e07bc   \n",
       "29  af7ff9e09ccb91b0638c969f1b90fc05  bea5e9bce4f2f79e9098c794f42e07bc   \n",
       "\n",
       "          time        lon       lat    lat_wgs     lon_wgs  \n",
       "25  1476330804  108.94676  34.23590  34.237497  108.942107  \n",
       "26  1476330846  108.94676  34.23491  34.236507  108.942107  \n",
       "27  1476330783  108.94676  34.23736  34.238957  108.942107  \n",
       "28  1476330843  108.94676  34.23515  34.236747  108.942107  \n",
       "29  1476330786  108.94676  34.23711  34.238707  108.942107  "
      ]
     },
     "execution_count": 13,
     "metadata": {},
     "output_type": "execute_result"
    }
   ],
   "source": [
    "trips_df_et = better_et(trips_df)\n",
    "trips_df_et.head()"
   ]
  },
  {
   "cell_type": "code",
   "execution_count": 14,
   "metadata": {},
   "outputs": [],
   "source": [
    "def crop_region(sample_df, p1, p2, p3, p4):\n",
    "    \"\"\"\n",
    "    Inputs:\n",
    "        sample_df: A Pandas dataframe with transformed WGS coordinates\n",
    "        p1, p2, p3, p4: WGS-84 coordinates of the boundaries of area of interest\n",
    "    Output:\n",
    "        sample_df_out: a Pandas dataframe with only rows that falls into the area of interest\n",
    "    \"\"\"\n",
    "    lat1 = min(p1[0], p2[0], p3[0], p4[0])\n",
    "    lat2 = max(p1[0], p2[0], p3[0], p4[0])\n",
    "    lon1 = min(p1[1], p2[1], p3[1], p4[1])\n",
    "    lon2 = max(p1[1], p2[1], p3[1], p4[1])\n",
    "    \n",
    "    sample_df_out = sample_df.loc[ (sample_df['lat_wgs']>=lat1) & (sample_df['lat_wgs']<=lat2)\n",
    "                                      & (sample_df['lon_wgs']>=lon1) & (sample_df['lon_wgs']<=lon2) , : ]\n",
    "    \n",
    "    return sample_df_out"
   ]
  },
  {
   "cell_type": "code",
   "execution_count": 15,
   "metadata": {},
   "outputs": [
    {
     "data": {
      "image/png": "[encoded data removed]",
      "text/plain": [
       "<Figure size 864x576 with 1 Axes>"
      ]
     },
     "metadata": {
      "needs_background": "light"
     },
     "output_type": "display_data"
    }
   ],
   "source": [
    "# crop the trips dataset and visualize the trips.\n",
    "crop_trips_df_et = crop_region(trips_df_et, p1, p2, p3, p4)\n",
    "plot_gps(crop_trips_df_et)"
   ]
  },
  {
   "cell_type": "markdown",
   "metadata": {},
   "source": [
    "---\n",
    "## Add Local Times\n",
    "\n",
    "The timestamps given in the raw DiDi dataset are in epoch time (a.k.a., Unix time, see https://en.wikipedia.org/wiki/Unix_time for details). However, we are interested in the traffic conditions in terms of local times. The city of Xi’an uses the Beijing Time, which is in UTC+8 time zone.\n",
    "\n",
    "We therefore convert the Unix time in the cropped data frame to local time (UTC+8)"
   ]
  },
  {
   "cell_type": "code",
   "execution_count": 16,
   "metadata": {},
   "outputs": [
    {
     "data": {
      "text/html": [
       "<div>\n",
       "<style scoped>\n",
       "    .dataframe tbody tr th:only-of-type {\n",
       "        vertical-align: middle;\n",
       "    }\n",
       "\n",
       "    .dataframe tbody tr th {\n",
       "        vertical-align: top;\n",
       "    }\n",
       "\n",
       "    .dataframe thead th {\n",
       "        text-align: right;\n",
       "    }\n",
       "</style>\n",
       "<table border=\"1\" class=\"dataframe\">\n",
       "  <thead>\n",
       "    <tr style=\"text-align: right;\">\n",
       "      <th></th>\n",
       "      <th>driver_id</th>\n",
       "      <th>order_id</th>\n",
       "      <th>time</th>\n",
       "      <th>lon</th>\n",
       "      <th>lat</th>\n",
       "      <th>lat_wgs</th>\n",
       "      <th>lon_wgs</th>\n",
       "    </tr>\n",
       "  </thead>\n",
       "  <tbody>\n",
       "    <tr>\n",
       "      <th>25</th>\n",
       "      <td>af7ff9e09ccb91b0638c969f1b90fc05</td>\n",
       "      <td>bea5e9bce4f2f79e9098c794f42e07bc</td>\n",
       "      <td>1476330804</td>\n",
       "      <td>108.94676</td>\n",
       "      <td>34.23590</td>\n",
       "      <td>34.237497</td>\n",
       "      <td>108.942107</td>\n",
       "    </tr>\n",
       "    <tr>\n",
       "      <th>26</th>\n",
       "      <td>af7ff9e09ccb91b0638c969f1b90fc05</td>\n",
       "      <td>bea5e9bce4f2f79e9098c794f42e07bc</td>\n",
       "      <td>1476330846</td>\n",
       "      <td>108.94676</td>\n",
       "      <td>34.23491</td>\n",
       "      <td>34.236507</td>\n",
       "      <td>108.942107</td>\n",
       "    </tr>\n",
       "    <tr>\n",
       "      <th>27</th>\n",
       "      <td>af7ff9e09ccb91b0638c969f1b90fc05</td>\n",
       "      <td>bea5e9bce4f2f79e9098c794f42e07bc</td>\n",
       "      <td>1476330783</td>\n",
       "      <td>108.94676</td>\n",
       "      <td>34.23736</td>\n",
       "      <td>34.238957</td>\n",
       "      <td>108.942107</td>\n",
       "    </tr>\n",
       "    <tr>\n",
       "      <th>28</th>\n",
       "      <td>af7ff9e09ccb91b0638c969f1b90fc05</td>\n",
       "      <td>bea5e9bce4f2f79e9098c794f42e07bc</td>\n",
       "      <td>1476330843</td>\n",
       "      <td>108.94676</td>\n",
       "      <td>34.23515</td>\n",
       "      <td>34.236747</td>\n",
       "      <td>108.942107</td>\n",
       "    </tr>\n",
       "    <tr>\n",
       "      <th>29</th>\n",
       "      <td>af7ff9e09ccb91b0638c969f1b90fc05</td>\n",
       "      <td>bea5e9bce4f2f79e9098c794f42e07bc</td>\n",
       "      <td>1476330786</td>\n",
       "      <td>108.94676</td>\n",
       "      <td>34.23711</td>\n",
       "      <td>34.238707</td>\n",
       "      <td>108.942107</td>\n",
       "    </tr>\n",
       "  </tbody>\n",
       "</table>\n",
       "</div>"
      ],
      "text/plain": [
       "                           driver_id                          order_id  \\\n",
       "25  af7ff9e09ccb91b0638c969f1b90fc05  bea5e9bce4f2f79e9098c794f42e07bc   \n",
       "26  af7ff9e09ccb91b0638c969f1b90fc05  bea5e9bce4f2f79e9098c794f42e07bc   \n",
       "27  af7ff9e09ccb91b0638c969f1b90fc05  bea5e9bce4f2f79e9098c794f42e07bc   \n",
       "28  af7ff9e09ccb91b0638c969f1b90fc05  bea5e9bce4f2f79e9098c794f42e07bc   \n",
       "29  af7ff9e09ccb91b0638c969f1b90fc05  bea5e9bce4f2f79e9098c794f42e07bc   \n",
       "\n",
       "          time        lon       lat    lat_wgs     lon_wgs  \n",
       "25  1476330804  108.94676  34.23590  34.237497  108.942107  \n",
       "26  1476330846  108.94676  34.23491  34.236507  108.942107  \n",
       "27  1476330783  108.94676  34.23736  34.238957  108.942107  \n",
       "28  1476330843  108.94676  34.23515  34.236747  108.942107  \n",
       "29  1476330786  108.94676  34.23711  34.238707  108.942107  "
      ]
     },
     "execution_count": 16,
     "metadata": {},
     "output_type": "execute_result"
    }
   ],
   "source": [
    "crop_trips_df_et.head()"
   ]
  },
  {
   "cell_type": "code",
   "execution_count": 17,
   "metadata": {},
   "outputs": [],
   "source": [
    "import datetime\n",
    "\n",
    "def add_local_time(crop_trips_df_et):\n",
    "    \"\"\"\n",
    "    Input:\n",
    "        crop_trips_df_et: the output from the function crop_region(), which should be a Pandas dataframe.\n",
    "        \n",
    "    Output:\n",
    "        The output should also be a dataframe, but with ONE additional columns -- local time -- which converts \n",
    "        the epoch time (column \"time\") to Beijing Time (UTC+8)\n",
    "    \"\"\"\n",
    "    crop_trips_df = crop_trips_df_et.copy()   \n",
    "    \n",
    "    crop_trips_df['local_time'] = (pd.to_datetime(crop_trips_df['time'],unit='s')) + datetime.timedelta(hours = 8)\n",
    "    \n",
    "    return crop_trips_df"
   ]
  },
  {
   "cell_type": "code",
   "execution_count": 18,
   "metadata": {},
   "outputs": [
    {
     "data": {
      "text/html": [
       "<div>\n",
       "<style scoped>\n",
       "    .dataframe tbody tr th:only-of-type {\n",
       "        vertical-align: middle;\n",
       "    }\n",
       "\n",
       "    .dataframe tbody tr th {\n",
       "        vertical-align: top;\n",
       "    }\n",
       "\n",
       "    .dataframe thead th {\n",
       "        text-align: right;\n",
       "    }\n",
       "</style>\n",
       "<table border=\"1\" class=\"dataframe\">\n",
       "  <thead>\n",
       "    <tr style=\"text-align: right;\">\n",
       "      <th></th>\n",
       "      <th>driver_id</th>\n",
       "      <th>order_id</th>\n",
       "      <th>time</th>\n",
       "      <th>lon</th>\n",
       "      <th>lat</th>\n",
       "      <th>lat_wgs</th>\n",
       "      <th>lon_wgs</th>\n",
       "      <th>local_time</th>\n",
       "    </tr>\n",
       "  </thead>\n",
       "  <tbody>\n",
       "    <tr>\n",
       "      <th>25</th>\n",
       "      <td>af7ff9e09ccb91b0638c969f1b90fc05</td>\n",
       "      <td>bea5e9bce4f2f79e9098c794f42e07bc</td>\n",
       "      <td>1476330804</td>\n",
       "      <td>108.94676</td>\n",
       "      <td>34.23590</td>\n",
       "      <td>34.237497</td>\n",
       "      <td>108.942107</td>\n",
       "      <td>2016-10-13 11:53:24</td>\n",
       "    </tr>\n",
       "    <tr>\n",
       "      <th>26</th>\n",
       "      <td>af7ff9e09ccb91b0638c969f1b90fc05</td>\n",
       "      <td>bea5e9bce4f2f79e9098c794f42e07bc</td>\n",
       "      <td>1476330846</td>\n",
       "      <td>108.94676</td>\n",
       "      <td>34.23491</td>\n",
       "      <td>34.236507</td>\n",
       "      <td>108.942107</td>\n",
       "      <td>2016-10-13 11:54:06</td>\n",
       "    </tr>\n",
       "    <tr>\n",
       "      <th>27</th>\n",
       "      <td>af7ff9e09ccb91b0638c969f1b90fc05</td>\n",
       "      <td>bea5e9bce4f2f79e9098c794f42e07bc</td>\n",
       "      <td>1476330783</td>\n",
       "      <td>108.94676</td>\n",
       "      <td>34.23736</td>\n",
       "      <td>34.238957</td>\n",
       "      <td>108.942107</td>\n",
       "      <td>2016-10-13 11:53:03</td>\n",
       "    </tr>\n",
       "    <tr>\n",
       "      <th>28</th>\n",
       "      <td>af7ff9e09ccb91b0638c969f1b90fc05</td>\n",
       "      <td>bea5e9bce4f2f79e9098c794f42e07bc</td>\n",
       "      <td>1476330843</td>\n",
       "      <td>108.94676</td>\n",
       "      <td>34.23515</td>\n",
       "      <td>34.236747</td>\n",
       "      <td>108.942107</td>\n",
       "      <td>2016-10-13 11:54:03</td>\n",
       "    </tr>\n",
       "    <tr>\n",
       "      <th>29</th>\n",
       "      <td>af7ff9e09ccb91b0638c969f1b90fc05</td>\n",
       "      <td>bea5e9bce4f2f79e9098c794f42e07bc</td>\n",
       "      <td>1476330786</td>\n",
       "      <td>108.94676</td>\n",
       "      <td>34.23711</td>\n",
       "      <td>34.238707</td>\n",
       "      <td>108.942107</td>\n",
       "      <td>2016-10-13 11:53:06</td>\n",
       "    </tr>\n",
       "  </tbody>\n",
       "</table>\n",
       "</div>"
      ],
      "text/plain": [
       "                           driver_id                          order_id  \\\n",
       "25  af7ff9e09ccb91b0638c969f1b90fc05  bea5e9bce4f2f79e9098c794f42e07bc   \n",
       "26  af7ff9e09ccb91b0638c969f1b90fc05  bea5e9bce4f2f79e9098c794f42e07bc   \n",
       "27  af7ff9e09ccb91b0638c969f1b90fc05  bea5e9bce4f2f79e9098c794f42e07bc   \n",
       "28  af7ff9e09ccb91b0638c969f1b90fc05  bea5e9bce4f2f79e9098c794f42e07bc   \n",
       "29  af7ff9e09ccb91b0638c969f1b90fc05  bea5e9bce4f2f79e9098c794f42e07bc   \n",
       "\n",
       "          time        lon       lat    lat_wgs     lon_wgs          local_time  \n",
       "25  1476330804  108.94676  34.23590  34.237497  108.942107 2016-10-13 11:53:24  \n",
       "26  1476330846  108.94676  34.23491  34.236507  108.942107 2016-10-13 11:54:06  \n",
       "27  1476330783  108.94676  34.23736  34.238957  108.942107 2016-10-13 11:53:03  \n",
       "28  1476330843  108.94676  34.23515  34.236747  108.942107 2016-10-13 11:54:03  \n",
       "29  1476330786  108.94676  34.23711  34.238707  108.942107 2016-10-13 11:53:06  "
      ]
     },
     "execution_count": 18,
     "metadata": {},
     "output_type": "execute_result"
    }
   ],
   "source": [
    "final_crop_df = add_local_time(crop_trips_df_et)\n",
    "final_crop_df.head()"
   ]
  },
  {
   "cell_type": "markdown",
   "metadata": {},
   "source": [
    "---\n",
    "# SECOND PART: Calculate the average speed\n",
    "\n",
    "The main task in this second part is to calculate respectively the northbound and southbound average speeds at every 5-minute interval for the interested arterial road (blue and magenta arrows in the figure above). Other branch roads within the region, such as eastbound and westbound roads, are not considered.\n",
    "\n",
    "<img src = 'Figure3.jpg'>"
   ]
  },
  {
   "cell_type": "markdown",
   "metadata": {},
   "source": [
    "---\n",
    "## Define global variables\n",
    "Those variables are very useful to our implementation"
   ]
  },
  {
   "cell_type": "code",
   "execution_count": 19,
   "metadata": {},
   "outputs": [
    {
     "name": "stdout",
     "output_type": "stream",
     "text": [
      "288\n"
     ]
    },
    {
     "data": {
      "text/plain": [
       "DatetimeIndex(['2016-10-13 00:00:00', '2016-10-13 00:05:00',\n",
       "               '2016-10-13 00:10:00', '2016-10-13 00:15:00',\n",
       "               '2016-10-13 00:20:00', '2016-10-13 00:25:00',\n",
       "               '2016-10-13 00:30:00', '2016-10-13 00:35:00',\n",
       "               '2016-10-13 00:40:00', '2016-10-13 00:45:00',\n",
       "               ...\n",
       "               '2016-10-13 23:10:00', '2016-10-13 23:15:00',\n",
       "               '2016-10-13 23:20:00', '2016-10-13 23:25:00',\n",
       "               '2016-10-13 23:30:00', '2016-10-13 23:35:00',\n",
       "               '2016-10-13 23:40:00', '2016-10-13 23:45:00',\n",
       "               '2016-10-13 23:50:00', '2016-10-13 23:55:00'],\n",
       "              dtype='datetime64[ns]', length=288, freq='5T')"
      ]
     },
     "execution_count": 19,
     "metadata": {},
     "output_type": "execute_result"
    }
   ],
   "source": [
    "# global variables defined for the start time of the time intervals\n",
    "global time_tuple\n",
    "global time_tuple_plt\n",
    "global g\n",
    "\n",
    "time_tuple = range(1476288000, 1476288000 + 24*3600, 5*60)\n",
    "time_tuple_plt = pd.to_datetime(list(time_tuple), unit='s') + pd.Timedelta(8, unit = 'h')\n",
    "g = pyproj.Geod(ellps='WGS84')\n",
    "print(len(time_tuple_plt))\n",
    "time_tuple_plt"
   ]
  },
  {
   "cell_type": "markdown",
   "metadata": {},
   "source": [
    "---\n",
    "## Define useful functions to solve the problem\n",
    "\n",
    "##### calculate_distance\n",
    "First we define a functiont that calculate the distance between two points"
   ]
  },
  {
   "cell_type": "code",
   "execution_count": 20,
   "metadata": {},
   "outputs": [],
   "source": [
    "def calculate_distance(lat1, lon1, lat2, lon2):\n",
    "    \"\"\"\n",
    "    Input:\n",
    "        lat1, lon1, lat2, lon2 are 4 integers that correspond to the latitudes and longitudes of 2 specific points\n",
    "        \n",
    "    Output:\n",
    "        the output is a distance between these two points\n",
    "    \"\"\"\n",
    "    earth_radius = 6371*1000\n",
    "    dlat = np.radians(lat2-lat1)\n",
    "    dlon = np.radians(lon2-lon1)\n",
    "    a = np.sin(dlat/2) * np.sin(dlat/2) + np.cos(np.radians(lat1)) * np.cos(np.radians(lat2)) * np.sin(dlon/2) * np.sin(dlon/2)\n",
    "    c = 2 * np.arctan2(np.sqrt(a), np.sqrt(1-a))\n",
    "    d = earth_radius * c\n",
    "    return d"
   ]
  },
  {
   "cell_type": "markdown",
   "metadata": {},
   "source": [
    "##### sort_df\n",
    "The following sort_df function returns a dataset with ordered order_id and local_time"
   ]
  },
  {
   "cell_type": "code",
   "execution_count": 21,
   "metadata": {},
   "outputs": [],
   "source": [
    "def sort_df(sample_df):\n",
    "    \"\"\"\n",
    "    Input:\n",
    "        A dataFrame sample_df        \n",
    "    Output:\n",
    "        the same dataframe with ordered order_id and local time\n",
    "    \"\"\"\n",
    "    sample_df_out = sample_df.sort_values(['order_id', 'local_time'])\n",
    "    return sample_df_out"
   ]
  },
  {
   "cell_type": "markdown",
   "metadata": {},
   "source": [
    "###### dist_azimuths_and_time\n",
    "\n",
    "This function adds 3 new columns to a dataframe:\n",
    "- Distance between a point and the following one\n",
    "- Time difference between the moment a point was taken and the following one\n",
    "- Forward azimuth between two consecutive points"
   ]
  },
  {
   "cell_type": "code",
   "execution_count": 37,
   "metadata": {},
   "outputs": [],
   "source": [
    "def dist_azimuths_and_time(sample_df_sorted):\n",
    "    \"\"\"\n",
    "    Input:\n",
    "        A dataFrame sample_df        \n",
    "    Output:\n",
    "        the same dataframe with 3 new columns\n",
    "    \"\"\"\n",
    "    sample_df_out = sample_df_sorted.copy()\n",
    "    \n",
    "    List_unique_order = sample_df_out.order_id.unique()\n",
    "    Dist = []\n",
    "    Forward_AZ = []\n",
    "    Time = []\n",
    "    \n",
    "    for order in List_unique_order:\n",
    "        \n",
    "        df = sample_df_out.loc[sample_df_out['order_id'] == order , :]\n",
    "        Dist.append(0)\n",
    "        Forward_AZ.append(0)\n",
    "        Time.append(0.000001)\n",
    "        \n",
    "        for i in range(1, len(df)):\n",
    "            \n",
    "            dist = calculate_distance(df.iloc[i-1, 5], df.iloc[i-1, 6], df.iloc[i, 5], df.iloc[i, 6])\n",
    "            dist = dist/1000\n",
    "            Dist.append(dist)\n",
    "            \n",
    "            az = g.inv(df.iloc[i-1, 6], df.iloc[i-1, 5], df.iloc[i, 6], df.iloc[i, 5])[0]\n",
    "            Forward_AZ.append(az)\n",
    "            \n",
    "            t = (df.iloc[i,7] - df.iloc[i-1,7]).seconds\n",
    "            t = t/3600\n",
    "            Time.append(t)\n",
    "            \n",
    "    sample_df_out['Distance'] = Dist\n",
    "    sample_df_out['Time'] = Time\n",
    "    sample_df_out['Azimuth'] = Forward_AZ\n",
    "    \n",
    "    return sample_df_out"
   ]
  },
  {
   "cell_type": "markdown",
   "metadata": {},
   "source": [
    "##### time_interval\n",
    "\n",
    "This function adds to every points of a dataframe the time's group that it belongs to."
   ]
  },
  {
   "cell_type": "code",
   "execution_count": 106,
   "metadata": {},
   "outputs": [],
   "source": [
    "def time_interval(sample_df):\n",
    "    \"\"\"\n",
    "    Input:\n",
    "        A dataFrame sample_df        \n",
    "    Output:\n",
    "        the same dataframe with a new column: group\n",
    "    \"\"\"\n",
    "    sample_df_out = sample_df.copy()\n",
    "    \n",
    "    #Compute the number of the interval where the local_time_min belongs to.\n",
    "    #For each group, there are 5*60 = 300 seconds.\n",
    "    #1476288000 corresponds to the TimeStamp '2016-10-13 00:00:00'\n",
    "    \n",
    "    sample_df_out['group'] = (sample_df_out['time'] - 1476288000) // 300\n",
    "    \n",
    "    return sample_df_out"
   ]
  },
  {
   "cell_type": "markdown",
   "metadata": {},
   "source": [
    "##### north_south\n",
    "\n",
    "This function filters northbound/westbound trajectories based on the azimuth"
   ]
  },
  {
   "cell_type": "code",
   "execution_count": 97,
   "metadata": {},
   "outputs": [],
   "source": [
    "def north_south(sample_df):\n",
    "    \"\"\"\n",
    "    Input:\n",
    "        A dataFrame sample_df        \n",
    "    Output:\n",
    "        two new dataframes\n",
    "    \"\"\"\n",
    "    #Create two new DataFrame: one for the northbound trajectories and the other one for the \n",
    "    #southbound trajectories. The absolute value of the forward azimuth for the southbound trajectories \n",
    "    #has to be in the interval [170,180]. The absolute value of the forward azimuth for the northbound trajectories\n",
    "    #has to be in the interval [0,10].\n",
    "    \n",
    "    southbounds = sample_df.loc[ abs(sample_df['Azimuth'])>=170  ,:]\n",
    "    northbounds = sample_df.loc[ abs(sample_df['Azimuth'])<=10  ,:]\n",
    "    \n",
    "    return northbounds, southbounds"
   ]
  },
  {
   "cell_type": "markdown",
   "metadata": {},
   "source": [
    "##### group_by_time_int\n",
    "\n",
    "This function group speeds into trajectory segments and time intervals. Moreover, it replace the integer indices by the corresponding TimeStamp"
   ]
  },
  {
   "cell_type": "code",
   "execution_count": 107,
   "metadata": {},
   "outputs": [],
   "source": [
    "dic = {x:y for x,y in zip(list(range(288)), time_tuple_plt)}"
   ]
  },
  {
   "cell_type": "code",
   "execution_count": 114,
   "metadata": {},
   "outputs": [],
   "source": [
    "def group_by_time_int(sample_df):\n",
    "    \"\"\"\n",
    "    Input:\n",
    "        A dataFrame sample_df        \n",
    "    Output:\n",
    "        the same dataframe with only the distance, the time, and the group as an index\n",
    "    \"\"\"\n",
    "    sample_df_out = sample_df.copy()\n",
    "    \n",
    "    #Groupby the interval groups\n",
    "    sample_df_out = sample_df_out.loc[:,['group','Distance', 'Time']].groupby('group').sum()\n",
    "    sample_df_out = sample_df_out.reset_index()\n",
    "    sample_df_out['group'] = sample_df_out['group'].replace(dic)\n",
    "    sample_df_out = sample_df_out.set_index('group')\n",
    "    \n",
    "    return(sample_df_out)"
   ]
  },
  {
   "cell_type": "markdown",
   "metadata": {},
   "source": [
    "##### speed\n",
    "\n",
    "This function calculates the speeds (in km/h) for all GPS points"
   ]
  },
  {
   "cell_type": "code",
   "execution_count": 127,
   "metadata": {},
   "outputs": [],
   "source": [
    "def speed(sample_df):\n",
    "    \"\"\"\n",
    "    Input:\n",
    "        A dataFrame sample_df        \n",
    "    Output:\n",
    "        the same dataframe with speed\n",
    "    \"\"\"\n",
    "    sample_df_out = sample_df.copy()\n",
    "    sample_df_out['Speed'] = sample_df_out['Distance'] / sample_df_out['Time']\n",
    "    \n",
    "    return sample_df_out"
   ]
  },
  {
   "cell_type": "markdown",
   "metadata": {},
   "source": [
    "##### plot_avg_speed_profile\n",
    "\n",
    "This function plots the speed profile along the day"
   ]
  },
  {
   "cell_type": "code",
   "execution_count": 125,
   "metadata": {},
   "outputs": [],
   "source": [
    "def plot_avg_speed_profile(sample_df, direction):\n",
    "    \"\"\"\n",
    "    Input:\n",
    "        A dataFrame sample_df, and the direction of the trajectories (Northbound/Southbound)        \n",
    "    Output:\n",
    "        the same dataframe with speed\n",
    "    \"\"\"\n",
    "    plt.figure(figsize = (15,8))\n",
    "    plt.plot(list(range(sample_df.shape[0])), sample_df['Speed'])\n",
    "    plt.xlabel('Time')\n",
    "    plt.ylabel('Average Speed [km/hr]')\n",
    "    plt.title(direction)\n",
    "    plt.show();"
   ]
  },
  {
   "cell_type": "markdown",
   "metadata": {},
   "source": [
    "---\n",
    "## Implement the global function function"
   ]
  },
  {
   "cell_type": "code",
   "execution_count": 128,
   "metadata": {},
   "outputs": [],
   "source": [
    "def speed_profile(sample_df):\n",
    "    \n",
    "    sample_df_out = sample_df.copy()\n",
    "    sample_df_out = sort_df(sample_df_out)\n",
    "    sample_df_out = dist_azimuths_and_time(sample_df_out)\n",
    "    sample_df_out = time_interval(sample_df_out)\n",
    "    north, south = north_south(sample_df_out)\n",
    "    north = group_by_time_int(north)\n",
    "    south = group_by_time_int(south)\n",
    "    north = speed(north)\n",
    "    south = speed(south)\n",
    "    \n",
    "    plot_avg_speed_profile(north, 'Northbounds Speed Profile')\n",
    "    plot_avg_speed_profile(south, 'Southbounds Speed Profile')"
   ]
  },
  {
   "cell_type": "markdown",
   "metadata": {},
   "source": [
    "---\n",
    "# Visualization and Interpretation of the results"
   ]
  },
  {
   "cell_type": "code",
   "execution_count": 129,
   "metadata": {},
   "outputs": [
    {
     "data": {
      "image/png": "[encoded data removed]",
      "text/plain": [
       "<Figure size 1080x576 with 1 Axes>"
      ]
     },
     "metadata": {
      "needs_background": "light"
     },
     "output_type": "display_data"
    },
    {
     "data": {
      "image/png": "[encoded data removed]",
      "text/plain": [
       "<Figure size 1080x576 with 1 Axes>"
      ]
     },
     "metadata": {
      "needs_background": "light"
     },
     "output_type": "display_data"
    }
   ],
   "source": [
    "speed_profile(final_crop_df)"
   ]
  },
  {
   "cell_type": "markdown",
   "metadata": {},
   "source": [
    "As we can see with these two graphs, the speed decreases during the day, and is higher during the night. We can see that some points seem to be wrong (pics near 0). Finally, we can notice that the lowest speed happened during midday approximately."
   ]
  },
  {
   "cell_type": "code",
   "execution_count": null,
   "metadata": {},
   "outputs": [],
   "source": []
  }
 ],
 "metadata": {
  "kernelspec": {
   "display_name": "Python 3",
   "language": "python",
   "name": "python3"
  },
  "language_info": {
   "codemirror_mode": {
    "name": "ipython",
    "version": 3
   },
   "file_extension": ".py",
   "mimetype": "text/x-python",
   "name": "python",
   "nbconvert_exporter": "python",
   "pygments_lexer": "ipython3",
   "version": "3.6.8"
  }
 },
 "nbformat": 4,
 "nbformat_minor": 2
}
